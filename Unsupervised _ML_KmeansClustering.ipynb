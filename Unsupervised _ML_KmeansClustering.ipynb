{
 "cells": [
  {
   "cell_type": "code",
   "execution_count": 2,
   "metadata": {},
   "outputs": [],
   "source": [
    "import numpy as np\n",
    "from sklearn.cluster import KMeans\n",
    "from scipy.spatial.distance import cdist\n",
    "import matplotlib.pyplot as plt"
   ]
  },
  {
   "cell_type": "code",
   "execution_count": 5,
   "metadata": {},
   "outputs": [],
   "source": [
    "cluster1 = np.random.uniform(0.5, 1.5, (2, 10))\n",
    "cluster2 = np.random.uniform(3.5, 4.5, (2, 10))"
   ]
  },
  {
   "cell_type": "code",
   "execution_count": 7,
   "metadata": {},
   "outputs": [
    {
     "data": {
      "text/plain": [
       "array([[0.80757114, 0.7588166 ],\n",
       "       [1.45661786, 1.17197013],\n",
       "       [0.67948376, 1.11711269],\n",
       "       [0.95772859, 1.32266854],\n",
       "       [1.42428114, 1.12396871],\n",
       "       [1.0553183 , 0.62264613],\n",
       "       [1.4296237 , 1.47616084],\n",
       "       [1.17714805, 1.13811042],\n",
       "       [1.02609673, 0.98216689],\n",
       "       [0.99705616, 1.16419151],\n",
       "       [3.50797089, 3.51306613],\n",
       "       [4.12806475, 4.18730658],\n",
       "       [4.16849344, 4.00770639],\n",
       "       [3.88045644, 4.00590089],\n",
       "       [3.53694027, 4.06085689],\n",
       "       [3.65126065, 3.56390864],\n",
       "       [3.68852919, 3.72898433],\n",
       "       [4.23990919, 4.39297837],\n",
       "       [3.63136878, 4.44151061],\n",
       "       [3.59298966, 4.17547723]])"
      ]
     },
     "execution_count": 7,
     "metadata": {},
     "output_type": "execute_result"
    }
   ],
   "source": [
    "X1 = np.hstack((cluster1, cluster2)).T\n",
    "X1"
   ]
  },
  {
   "cell_type": "code",
   "execution_count": 8,
   "metadata": {},
   "outputs": [
    {
     "data": {
      "text/plain": [
       "array([[0.80757114, 0.7588166 ],\n",
       "       [1.45661786, 1.17197013],\n",
       "       [0.67948376, 1.11711269],\n",
       "       [0.95772859, 1.32266854],\n",
       "       [1.42428114, 1.12396871],\n",
       "       [1.0553183 , 0.62264613],\n",
       "       [1.4296237 , 1.47616084],\n",
       "       [1.17714805, 1.13811042],\n",
       "       [1.02609673, 0.98216689],\n",
       "       [0.99705616, 1.16419151],\n",
       "       [0.80757114, 0.7588166 ],\n",
       "       [1.45661786, 1.17197013],\n",
       "       [0.67948376, 1.11711269],\n",
       "       [0.95772859, 1.32266854],\n",
       "       [1.42428114, 1.12396871],\n",
       "       [1.0553183 , 0.62264613],\n",
       "       [1.4296237 , 1.47616084],\n",
       "       [1.17714805, 1.13811042],\n",
       "       [1.02609673, 0.98216689],\n",
       "       [0.99705616, 1.16419151]])"
      ]
     },
     "execution_count": 8,
     "metadata": {},
     "output_type": "execute_result"
    }
   ],
   "source": [
    "X2 = np.hstack((cluster1, cluster1)).T\n",
    "X2"
   ]
  },
  {
   "cell_type": "code",
   "execution_count": 11,
   "metadata": {},
   "outputs": [
    {
     "name": "stdout",
     "output_type": "stream",
     "text": [
      "(40, 2)\n",
      "[[0.80757114 0.7588166 ]\n",
      " [1.45661786 1.17197013]\n",
      " [0.67948376 1.11711269]\n",
      " [0.95772859 1.32266854]\n",
      " [1.42428114 1.12396871]\n",
      " [1.0553183  0.62264613]\n",
      " [1.4296237  1.47616084]\n",
      " [1.17714805 1.13811042]\n",
      " [1.02609673 0.98216689]\n",
      " [0.99705616 1.16419151]\n",
      " [3.50797089 3.51306613]\n",
      " [4.12806475 4.18730658]\n",
      " [4.16849344 4.00770639]\n",
      " [3.88045644 4.00590089]\n",
      " [3.53694027 4.06085689]\n",
      " [3.65126065 3.56390864]\n",
      " [3.68852919 3.72898433]\n",
      " [4.23990919 4.39297837]\n",
      " [3.63136878 4.44151061]\n",
      " [3.59298966 4.17547723]\n",
      " [0.80757114 0.7588166 ]\n",
      " [1.45661786 1.17197013]\n",
      " [0.67948376 1.11711269]\n",
      " [0.95772859 1.32266854]\n",
      " [1.42428114 1.12396871]\n",
      " [1.0553183  0.62264613]\n",
      " [1.4296237  1.47616084]\n",
      " [1.17714805 1.13811042]\n",
      " [1.02609673 0.98216689]\n",
      " [0.99705616 1.16419151]\n",
      " [0.80757114 0.7588166 ]\n",
      " [1.45661786 1.17197013]\n",
      " [0.67948376 1.11711269]\n",
      " [0.95772859 1.32266854]\n",
      " [1.42428114 1.12396871]\n",
      " [1.0553183  0.62264613]\n",
      " [1.4296237  1.47616084]\n",
      " [1.17714805 1.13811042]\n",
      " [1.02609673 0.98216689]\n",
      " [0.99705616 1.16419151]]\n"
     ]
    }
   ],
   "source": [
    "# Creating the input data:\n",
    "X = np.vstack((X1, X2))\n",
    "print(X.shape)\n",
    "print(X)"
   ]
  },
  {
   "cell_type": "code",
   "execution_count": 12,
   "metadata": {},
   "outputs": [
    {
     "name": "stdout",
     "output_type": "stream",
     "text": [
      "range(1, 10)\n"
     ]
    }
   ],
   "source": [
    "# Hyperparameter values setting:\n",
    "K = range(1, 10)\n",
    "print(K)"
   ]
  },
  {
   "cell_type": "code",
   "execution_count": 23,
   "metadata": {},
   "outputs": [
    {
     "name": "stdout",
     "output_type": "stream",
     "text": [
      "[1.5068830090639564, 0.33038302109616635, 0.2615144852219818, 0.2143985967504162, 0.18600763526292208, 0.15882099056851637, 0.1330743189945076, 0.10437330084281855, 0.09224227607004323]\n"
     ]
    }
   ],
   "source": [
    "mean_distortions = []\n",
    "for k in K:\n",
    "    kmeans = KMeans(n_clusters=k)\n",
    "    kmeans.fit(X)\n",
    "    mean_distortions.append(sum(np.min(cdist(X,kmeans.cluster_centers_,'euclidean'),axis=1))/X.shape[0])\n",
    "\n",
    "print(mean_distortions)"
   ]
  },
  {
   "cell_type": "code",
   "execution_count": 25,
   "metadata": {},
   "outputs": [
    {
     "data": {
      "image/png": "[encoded data removed]",
      "text/plain": [
       "<Figure size 432x288 with 1 Axes>"
      ]
     },
     "metadata": {
      "needs_background": "light"
     },
     "output_type": "display_data"
    }
   ],
   "source": [
    "plt.plot(K, mean_distortions, 'bx-')\n",
    "plt.xlabel('k')\n",
    "plt.ylabel('Average distortion')\n",
    "plt.title('Selecting k with the Elbow method')\n",
    "plt.show()"
   ]
  },
  {
   "cell_type": "markdown",
   "metadata": {},
   "source": [
    "From the above graph, we could see a steep change of the loss(av distortion) vs k(number of clusters) at k=2. (analoguous to the shape of elbow). This point k=2 is the optimized hyperparameter value. "
   ]
  }
 ],
 "metadata": {
  "kernelspec": {
   "display_name": "Python 3",
   "language": "python",
   "name": "python3"
  },
  "language_info": {
   "codemirror_mode": {
    "name": "ipython",
    "version": 3
   },
   "file_extension": ".py",
   "mimetype": "text/x-python",
   "name": "python",
   "nbconvert_exporter": "python",
   "pygments_lexer": "ipython3",
   "version": "3.8.3"
  }
 },
 "nbformat": 4,
 "nbformat_minor": 4
}
